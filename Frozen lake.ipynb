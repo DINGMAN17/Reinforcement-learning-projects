{
 "cells": [
  {
   "cell_type": "code",
   "execution_count": 42,
   "metadata": {},
   "outputs": [],
   "source": [
    "#import necessary packages\n",
    "import gym\n",
    "import numpy as np\n",
    "import random\n",
    "from gym.envs.toy_text.frozen_lake import generate_random_map\n",
    "from tqdm import trange\n",
    "import matplotlib.pyplot as plt"
   ]
  },
  {
   "cell_type": "markdown",
   "metadata": {},
   "source": [
    "# Create fronzen lake environment:\n",
    "- 4x4 standard map without slippery\n",
    "- 10x10 random map with 25% holes without slippery"
   ]
  },
  {
   "cell_type": "code",
   "execution_count": 43,
   "metadata": {
    "scrolled": true
   },
   "outputs": [
    {
     "name": "stdout",
     "output_type": "stream",
     "text": [
      "\n",
      "\u001b[41mS\u001b[0mFFF\n",
      "FHFH\n",
      "FFFH\n",
      "HFFG\n"
     ]
    }
   ],
   "source": [
    "#Part1: generate frozen lake 4x4 model for \n",
    "env = gym.make('FrozenLake-v0', is_slippery=False)\n",
    "env.render()"
   ]
  },
  {
   "cell_type": "code",
   "execution_count": 87,
   "metadata": {},
   "outputs": [
    {
     "name": "stdout",
     "output_type": "stream",
     "text": [
      "\n",
      "\u001b[41mS\u001b[0mFFFHFFFFF\n",
      "FHHFFHFFFH\n",
      "FFFHFFFFHH\n",
      "FFFFHFHFHF\n",
      "FHFHFFFFFH\n",
      "FFHFHFFHFF\n",
      "FFHFHFFHFF\n",
      "FFFFFFFFFH\n",
      "HFFFFFFFFF\n",
      "HHFFFFFFHG\n"
     ]
    }
   ],
   "source": [
    "#Part2: generate frozen lake random map 10x10 with 25% holes\n",
    "random_map = generate_random_map(size=10, p=0.75)\n",
    "env2 = gym.make('FrozenLake-v0', desc=random_map, is_slippery=False)\n",
    "env2.reset()\n",
    "env2.render()"
   ]
  },
  {
   "cell_type": "code",
   "execution_count": 44,
   "metadata": {},
   "outputs": [],
   "source": [
    "#define a tie-braking argmax function, \n",
    "#as np.argmax only returns the first instance of the highest value\n",
    "\n",
    "def argmax(q):\n",
    "    \"\"\"tie-breaking argmax\n",
    "    Input: \n",
    "        q values (array)\n",
    "    Return: \n",
    "        index of maximum q value (int)\n",
    "    \"\"\"\n",
    "    max_value = float(\"-inf\")\n",
    "    ties = []\n",
    "    for i in range(len(q)):\n",
    "        if q[i] > max_value:\n",
    "            max_value = q[i]\n",
    "            ties = [i]\n",
    "        elif q[i] == max_value:\n",
    "            ties.append(i)\n",
    "            \n",
    "    return np.random.choice(ties)"
   ]
  },
  {
   "cell_type": "markdown",
   "metadata": {},
   "source": [
    "# Implementation:\n",
    "\n",
    "## Method 1: First-visit MC control without exploring starts"
   ]
  },
  {
   "cell_type": "code",
   "execution_count": 45,
   "metadata": {},
   "outputs": [],
   "source": [
    "#generate random policy (equal probability)\n",
    "def generate_random_policy(env):\n",
    "    \"\"\"generate initial policy with equal probability\n",
    "    Input:\n",
    "        env - environment\n",
    "    Return: \n",
    "        policy (dict) - initial policy\n",
    "    \"\"\"\n",
    "    policy = dict()\n",
    "    states = env.observation_space.n\n",
    "    actions = env.action_space.n\n",
    "    for state in range(states):\n",
    "        proba = dict()\n",
    "        for action in range(actions):\n",
    "            proba[action] = 1 / actions\n",
    "        policy[state] = proba\n",
    "    return policy"
   ]
  },
  {
   "cell_type": "code",
   "execution_count": 46,
   "metadata": {},
   "outputs": [],
   "source": [
    "#initialize Q and returns\n",
    "def initialize_parameters(env, policy):\n",
    "    \"\"\"initialize q_values\n",
    "    Input:\n",
    "        env - environment\n",
    "        policy (dict) - initial policy\n",
    "    Return:\n",
    "        Q (dict) - action values\n",
    "    \"\"\"\n",
    "    Q = dict() \n",
    "    returns = dict()\n",
    "    for state in policy.keys():\n",
    "        Q[state] = {a: 0 for a in range(env.action_space.n)}\n",
    "    return Q, returns"
   ]
  },
  {
   "cell_type": "code",
   "execution_count": 47,
   "metadata": {},
   "outputs": [],
   "source": [
    "def epsilon_greedy_MC(a_optimal, epsilon):\n",
    "    \"\"\"epsilon_greedy\n",
    "    Input: \n",
    "        a_optimal (int) - optimal action\n",
    "        epsilon (float) - exploration factor\n",
    "    Return:\n",
    "        action (int) - action chosen\n",
    "    \"\"\"\n",
    "    proba = np.random.random()\n",
    "    if proba < 1-epsilon:\n",
    "        return a_optimal\n",
    "    else:\n",
    "        return np.random.randint(0, env.action_space.n)"
   ]
  },
  {
   "cell_type": "code",
   "execution_count": 48,
   "metadata": {},
   "outputs": [],
   "source": [
    "def generate_episode_MC(env, policy, epsilon, display=False):\n",
    "    \"\"\"generate one episode \n",
    "    Input:\n",
    "        env - environment\n",
    "        policy (dict)\" - initial randomly generated policy\n",
    "        epsilon (float) - exploration factor\n",
    "        display (boolean) - call env.render() for visualization\n",
    "    Return:\n",
    "        episode (list) - containing [state, action, reward, done] for prediction\n",
    "        length of episode (int) \n",
    "    \"\"\"\n",
    "    env.reset()\n",
    "    episode = []\n",
    "    done = False\n",
    "    \n",
    "    while not done:  \n",
    "        s = env.env.s\n",
    "        a_optimal = argmax(list(policy[s].values()))  \n",
    "        a_t = epsilon_greedy_MC(a_optimal, epsilon)\n",
    "        s_t, r_t, done, _ = env.step(a_t)\n",
    "        episode.append([s,a_t, r_t, done])\n",
    "        if display == True:\n",
    "            env.render()\n",
    "    if episode[-1][-2] == 0:   #change the reward of falling in holes for 10x10 map\n",
    "        episode[-1][-2] = -1\n",
    "        \n",
    "    return episode, len(episode)    "
   ]
  },
  {
   "cell_type": "code",
   "execution_count": 49,
   "metadata": {},
   "outputs": [],
   "source": [
    "def first_visit_MC(random_env, ep=100, epsilon=0.15, gamma=0.95):\n",
    "    \"\"\"first visit MC without ES implementation\n",
    "    Input: \n",
    "        env -environment\n",
    "        ep (int)-number of episodes to run\n",
    "        epsilon (float)-allow exploration\n",
    "        gamma (float)- discount factor\n",
    "    Return:\n",
    "        policy (dict) - final policy after training\n",
    "        reward_record (list) - list of reward received in every episode\n",
    "    \"\"\"\n",
    "    #initialize \n",
    "    env = random_env\n",
    "    t = trange(ep)\n",
    "    actions = env.action_space.n\n",
    "    policy = generate_random_policy(env)\n",
    "    Q, returns = initialize_parameters(env, policy)\n",
    "    reward_record = np.zeros(ep)\n",
    "\n",
    "    for i in t:\n",
    "        G = 0\n",
    "        #run one episode\n",
    "        episode, T = generate_episode_MC(env, policy, epsilon)\n",
    "        reward_record[i] = episode[-1][-2]\n",
    "        #Loop for each step of episode in reverse order\n",
    "        for t in reversed(range(0, T)):\n",
    "            s_t, a_t, r_t, _ = episode[t] #tuple(state at t, action at t, reward at t+1)\n",
    "            G = gamma * G + r_t\n",
    "            # only count the first visited (state, action) pair\n",
    "            if not (s_t, a_t) in [episode[i][:1] for i in range(t)]:\n",
    "                if returns.get((s_t,a_t)):\n",
    "                    returns[(s_t,a_t)].append(G)\n",
    "                else:\n",
    "                    returns[(s_t,a_t)] = [G]\n",
    "                Q[s_t][a_t] = np.average(returns[(s_t,a_t)]) \n",
    "                #policy improvement\n",
    "                q_values = list(Q[s_t].values())\n",
    "                a_optimal = argmax(q_values)\n",
    "                for action in policy[s_t].items():\n",
    "                    if action[0] == a_optimal:\n",
    "                        policy[s_t][action[0]] = 1-epsilon+(epsilon/actions)\n",
    "                    else:\n",
    "                        policy[s_t][action[0]] = epsilon/actions\n",
    "                            \n",
    "    return policy, reward_record"
   ]
  },
  {
   "cell_type": "markdown",
   "metadata": {},
   "source": [
    "## Method 2: SARSA with ϵ-greedy behavior policy"
   ]
  },
  {
   "cell_type": "code",
   "execution_count": 50,
   "metadata": {},
   "outputs": [],
   "source": [
    "def epsilon_greedy(Q, epsilon, actions, state):\n",
    "    \"\"\"perform ϵ-greedy action selection\n",
    "    Input:\n",
    "    Q (array) - q values\n",
    "    epsilon (float) - exploration factor\n",
    "    actions (int) - total number of actions \n",
    "    state (int) - current state \n",
    "    Return:\n",
    "    action (int) - action selected\n",
    "    \"\"\"\n",
    "    proba = np.random.random()\n",
    "    if proba < 1-epsilon:\n",
    "        return argmax(Q[state, :])\n",
    "    else:\n",
    "        return np.random.randint(actions)"
   ]
  },
  {
   "cell_type": "code",
   "execution_count": 51,
   "metadata": {},
   "outputs": [],
   "source": [
    "def sarsa(random_env, step_size, gamma, epsilon, ep):\n",
    "    \"\"\"sarsa implementation\n",
    "    Input:\n",
    "    step_size (float) - learning rate\n",
    "    gamma (float) - discount rate\n",
    "    epsilon (float) - exploration paramater\n",
    "    ep (int) - number of episodes\n",
    "    Return:\n",
    "    Q (array) - q values of state-action pairs\n",
    "    reward (list) - reward received after each episode\n",
    "    \"\"\"\n",
    "    #initialize state action pairs Q, list of rewards received per episode\n",
    "    env = random_env\n",
    "    t = trange(ep)\n",
    "    actions = env.action_space.n\n",
    "    states = env.observation_space.n\n",
    "    Q = np.zeros((states, actions))\n",
    "    reward_record = np.zeros(ep)\n",
    "    \n",
    "    for i in t:\n",
    "        env.reset()\n",
    "        done = False\n",
    "        state = env.env.s\n",
    "        action = epsilon_greedy(Q, epsilon, actions, state)\n",
    "        \n",
    "        while not done:\n",
    "            s_t, r_t, done, _ = env.step(action)\n",
    "            a_t = epsilon_greedy(Q, epsilon, actions, s_t)\n",
    "            if done:\n",
    "                if r_t == 0:   #change the reward to -1 if it's a hole\n",
    "                    r_t = -1\n",
    "                #update Q, when episode end, no next state q_value to be updated\n",
    "                Q[state, action] += step_size * (r_t - Q[state, action])\n",
    "                reward_record[i] = r_t   \n",
    "            else:\n",
    "                Q[state, action] += step_size * (r_t + (gamma * Q[s_t, a_t]) - Q[state, action])\n",
    "                \n",
    "            state, action = s_t, a_t\n",
    "            \n",
    "    return Q, reward_record"
   ]
  },
  {
   "cell_type": "code",
   "execution_count": 52,
   "metadata": {},
   "outputs": [],
   "source": [
    "#generate episode for visualization and verification pupose\n",
    "#can be used for both SARSA and Qlearning\n",
    "def generate_episode_sarsa(random_env, Q, display=True, epsilon=0):\n",
    "    \"\"\"generate one episode for visualization\n",
    "    \"\"\"\n",
    "    env = random_env\n",
    "    env.reset()\n",
    "    episode = []\n",
    "    done = False\n",
    "    actions = env.action_space.n\n",
    "    states = env.observation_space.n\n",
    "    \n",
    "    while not done:\n",
    "        state = env.env.s    \n",
    "        a_optimal = argmax(Q[state])\n",
    "        a_t = epsilon_greedy(Q, epsilon, actions, state)\n",
    "        s_t, r_t, done, _ = env.step(a_t)        \n",
    "        episode.append((state, a_t, r_t, done))\n",
    "        if display == True:\n",
    "            env.render()\n",
    "    return episode, len(episode) "
   ]
  },
  {
   "cell_type": "markdown",
   "metadata": {},
   "source": [
    "## Method 3: Q learning with an ϵ-greedy behavior policy"
   ]
  },
  {
   "cell_type": "code",
   "execution_count": 53,
   "metadata": {},
   "outputs": [],
   "source": [
    "def qlearning(random_env, step_size, gamma, epsilon, ep):\n",
    "    \"\"\"\n",
    "    Input:\n",
    "    step_size(float): learning rate alpha\n",
    "    gamma(float): discount rate\n",
    "    epsilon(float): exploration paramater\n",
    "    ep(int): number of episodes\n",
    "    Return:\n",
    "    Q (array) - q values of state-action pairs\n",
    "    reward (list) - reward received after each episode\n",
    "    \"\"\"\n",
    "    env = random_env\n",
    "    t = trange(ep)\n",
    "    actions = env.action_space.n\n",
    "    states = env.observation_space.n\n",
    "    Q = np.zeros((states, actions))\n",
    "    reward_record = np.zeros(ep)\n",
    "    \n",
    "    for i in t:\n",
    "        env.reset()\n",
    "        done = False\n",
    "        state = env.env.s\n",
    "                \n",
    "        while not done:\n",
    "            action = epsilon_greedy(Q, epsilon, actions, state)\n",
    "            s_t, r_t, done, _ = env.step(action)\n",
    "\n",
    "            if done:\n",
    "                if r_t == 0:  #change the reward of holes to -1 instead of 0\n",
    "                    r_t = -1\n",
    "                #update q value accordingly \n",
    "                Q[state, action] += step_size * (r_t - Q[state, action])\n",
    "                reward_record[i] = r_t\n",
    "            else:\n",
    "                Q[state, action] += step_size * (r_t + (gamma * np.max(Q[s_t, :]) - Q[state, action]))\n",
    "                \n",
    "            state = s_t\n",
    "            \n",
    "    return Q, reward_record"
   ]
  },
  {
   "cell_type": "markdown",
   "metadata": {},
   "source": [
    "# Results:\n",
    "## Part 1: 4x4 map "
   ]
  },
  {
   "cell_type": "code",
   "execution_count": 68,
   "metadata": {},
   "outputs": [],
   "source": [
    "# set the parameters\n",
    "step_size = 0.1\n",
    "gamma = 0.95\n",
    "epsilon = 0.15\n",
    "episode = 500"
   ]
  },
  {
   "cell_type": "code",
   "execution_count": 69,
   "metadata": {},
   "outputs": [
    {
     "name": "stderr",
     "output_type": "stream",
     "text": [
      "100%|████████████████████████████████████████| 500/500 [00:10<00:00, 45.69it/s]\n",
      "100%|██████████████████████████████████████| 500/500 [00:00<00:00, 1798.13it/s]\n",
      "100%|██████████████████████████████████████| 500/500 [00:00<00:00, 1831.41it/s]\n"
     ]
    }
   ],
   "source": [
    "reward_sums = {}\n",
    "\n",
    "reward_sums[\"first visit MC\"] = first_visit_MC(env, episode, epsilon, gamma)[1]\n",
    "reward_sums[\"Sarsa\"] = sarsa(env, step_size, gamma, epsilon, episode)[1]\n",
    "reward_sums[\"Q-learning\"] = qlearning(env, step_size, gamma, epsilon, episode)[1]"
   ]
  },
  {
   "cell_type": "code",
   "execution_count": 85,
   "metadata": {},
   "outputs": [
    {
     "name": "stderr",
     "output_type": "stream",
     "text": [
      "C:\\Users\\DINGMAN\\Anaconda3\\envs\\6.86x\\lib\\site-packages\\numpy\\core\\fromnumeric.py:3373: RuntimeWarning: Mean of empty slice.\n",
      "  out=out, **kwargs)\n",
      "C:\\Users\\DINGMAN\\Anaconda3\\envs\\6.86x\\lib\\site-packages\\numpy\\core\\_methods.py:170: RuntimeWarning: invalid value encountered in double_scalars\n",
      "  ret = ret.dtype.type(ret / rcount)\n"
     ]
    },
    {
     "data": {
      "image/png": "[encoded data removed]",
      "text/plain": [
       "<Figure size 432x288 with 1 Axes>"
      ]
     },
     "metadata": {
      "needs_background": "light"
     },
     "output_type": "display_data"
    }
   ],
   "source": [
    "eps = np.arange(0,501,10)\n",
    "avg_reward_all = {}\n",
    "for ep in eps:\n",
    "    for method in [\"Q-learning\", \"Sarsa\", \"first visit MC\"]:\n",
    "        if avg_reward_all.get(method):\n",
    "            avg_reward_all[method].append(np.mean(reward_sums[method][:ep]))\n",
    "        else:\n",
    "            avg_reward_all[method] = [np.mean(reward_sums[method][:ep])]\n",
    "\n",
    "#plot graph average reward per episode vs episode\n",
    "for method in [\"Q-learning\", \"Sarsa\", \"first visit MC\"]:\n",
    "    plt.plot(eps, avg_reward_all[method], label=method)\n",
    "plt.title('Average rewards vs Number of episode')\n",
    "plt.xlabel(\"Episodes\")\n",
    "plt.ylabel(\"average rewards\")\n",
    "plt.xlim(0,500)\n",
    "plt.ylim(-1,1)\n",
    "plt.legend()\n",
    "plt.show()"
   ]
  },
  {
   "cell_type": "code",
   "execution_count": 100,
   "metadata": {},
   "outputs": [
    {
     "name": "stderr",
     "output_type": "stream",
     "text": [
      "100%|█████████████████████████████████████| 3000/3000 [00:10<00:00, 273.56it/s]\n",
      "100%|████████████████████████████████████| 3000/3000 [00:02<00:00, 1468.42it/s]\n",
      "100%|████████████████████████████████████| 3000/3000 [00:01<00:00, 1713.16it/s]\n"
     ]
    },
    {
     "data": {
      "image/png": "[encoded data removed]",
      "text/plain": [
       "<Figure size 432x288 with 1 Axes>"
      ]
     },
     "metadata": {
      "needs_background": "light"
     },
     "output_type": "display_data"
    }
   ],
   "source": [
    "#test convergence, use 1000 episode for training\n",
    "episode = 3000\n",
    "reward_sums = {}\n",
    "reward_sums[\"first visit MC\"] = first_visit_MC(env, episode, epsilon, gamma)[1]\n",
    "reward_sums[\"Sarsa\"] = sarsa(env, step_size, gamma, epsilon, episode)[1]\n",
    "reward_sums[\"Q-learning\"] = qlearning(env, step_size, gamma, epsilon, episode)[1]\n",
    "eps = np.arange(20,3001,30)\n",
    "avg_reward_all = {}\n",
    "for ep in eps:\n",
    "    for method in [\"Q-learning\", \"Sarsa\", \"first visit MC\"]:\n",
    "        if avg_reward_all.get(method):\n",
    "            avg_reward_all[method].append(np.mean(reward_sums[method][:ep]))\n",
    "        else:\n",
    "            avg_reward_all[method] = [np.mean(reward_sums[method][:ep])]\n",
    "\n",
    "#plot graph average reward per episode vs episode\n",
    "for method in [\"Q-learning\", \"Sarsa\", \"first visit MC\"]:\n",
    "    plt.plot(eps, avg_reward_all[method], label=method)\n",
    "plt.title('Average rewards vs Number of episode')\n",
    "plt.xlabel(\"Episodes\")\n",
    "plt.ylabel(\"average rewards\")\n",
    "plt.xlim(20,3000)\n",
    "plt.ylim(-1,1)\n",
    "plt.legend()\n",
    "plt.show()"
   ]
  },
  {
   "cell_type": "code",
   "execution_count": 103,
   "metadata": {},
   "outputs": [
    {
     "name": "stderr",
     "output_type": "stream",
     "text": [
      "100%|███████████████████████████████████████| 500/500 [00:01<00:00, 376.01it/s]\n",
      "100%|███████████████████████████████████████| 500/500 [00:00<00:00, 503.60it/s]\n",
      "C:\\Users\\DINGMAN\\Anaconda3\\envs\\6.86x\\lib\\site-packages\\numpy\\core\\fromnumeric.py:3373: RuntimeWarning: Mean of empty slice.\n",
      "  out=out, **kwargs)\n",
      "C:\\Users\\DINGMAN\\Anaconda3\\envs\\6.86x\\lib\\site-packages\\numpy\\core\\_methods.py:170: RuntimeWarning: invalid value encountered in double_scalars\n",
      "  ret = ret.dtype.type(ret / rcount)\n"
     ]
    },
    {
     "data": {
      "image/png": "[encoded data removed]",
      "text/plain": [
       "<Figure size 432x288 with 1 Axes>"
      ]
     },
     "metadata": {
      "needs_background": "light"
     },
     "output_type": "display_data"
    }
   ],
   "source": [
    "#use smaller epsilon to compare Q-learning and SARSA\n",
    "epsilon = 0.05\n",
    "episode = 500\n",
    "reward_sums = {}\n",
    "reward_sums[\"Sarsa\"] = sarsa(env, step_size, gamma, epsilon, episode)[1]\n",
    "reward_sums[\"Q-learning\"] = qlearning(env, step_size, gamma, epsilon, episode)[1]\n",
    "eps = np.arange(0,501,20)\n",
    "avg_reward_all = {}\n",
    "for ep in eps:\n",
    "    for method in [\"Q-learning\", \"Sarsa\"]:\n",
    "        if avg_reward_all.get(method):\n",
    "            avg_reward_all[method].append(np.mean(reward_sums[method][:ep]))\n",
    "        else:\n",
    "            avg_reward_all[method] = [np.mean(reward_sums[method][:ep])]\n",
    "\n",
    "#plot graph average reward per episode vs episode\n",
    "for method in [\"Q-learning\", \"Sarsa\"]:\n",
    "    plt.plot(eps, avg_reward_all[method], label=method)\n",
    "plt.title('Average rewards vs Number of episode')\n",
    "plt.xlabel(\"Episodes\")\n",
    "plt.ylabel(\"average rewards\")\n",
    "plt.xlim(0,500)\n",
    "plt.ylim(-1,1)\n",
    "plt.legend()\n",
    "plt.show()"
   ]
  },
  {
   "cell_type": "code",
   "execution_count": 120,
   "metadata": {},
   "outputs": [
    {
     "name": "stderr",
     "output_type": "stream",
     "text": [
      "100%|███████████████████████████████████████| 200/200 [00:00<00:00, 554.34it/s]"
     ]
    },
    {
     "name": "stdout",
     "output_type": "stream",
     "text": [
      "  (Right)\n",
      "S\u001b[41mF\u001b[0mFF\n",
      "FHFH\n",
      "FFFH\n",
      "HFFG\n",
      "  (Right)\n",
      "SF\u001b[41mF\u001b[0mF\n",
      "FHFH\n",
      "FFFH\n",
      "HFFG\n",
      "  (Down)\n",
      "SFFF\n",
      "FH\u001b[41mF\u001b[0mH\n",
      "FFFH\n",
      "HFFG\n",
      "  (Down)\n",
      "SFFF\n",
      "FHFH\n",
      "FF\u001b[41mF\u001b[0mH\n",
      "HFFG\n",
      "  (Down)\n",
      "SFFF\n",
      "FHFH\n",
      "FFFH\n",
      "HF\u001b[41mF\u001b[0mG\n",
      "  (Right)\n",
      "SFFF\n",
      "FHFH\n",
      "FFFH\n",
      "HFF\u001b[41mG\u001b[0m\n"
     ]
    },
    {
     "name": "stderr",
     "output_type": "stream",
     "text": [
      "\n"
     ]
    },
    {
     "data": {
      "text/plain": [
       "([(0, 2, 0.0, False),\n",
       "  (1, 2, 0.0, False),\n",
       "  (2, 1, 0.0, False),\n",
       "  (6, 1, 0.0, False),\n",
       "  (10, 1, 0.0, False),\n",
       "  (14, 2, 1.0, True)],\n",
       " 6)"
      ]
     },
     "execution_count": 120,
     "metadata": {},
     "output_type": "execute_result"
    }
   ],
   "source": [
    "#generate one episode to visualize the optimal policy \n",
    "#obtained using SARSA\n",
    "Q = sarsa(env, step_size, gamma, epsilon, 200)[0]\n",
    "generate_episode_sarsa(env, Q, display=True)"
   ]
  },
  {
   "cell_type": "code",
   "execution_count": 124,
   "metadata": {},
   "outputs": [
    {
     "name": "stderr",
     "output_type": "stream",
     "text": [
      "100%|███████████████████████████████████████| 200/200 [00:00<00:00, 338.03it/s]\n"
     ]
    },
    {
     "data": {
      "text/plain": [
       "([(0, 2, 0.0, False),\n",
       "  (1, 2, 0.0, False),\n",
       "  (2, 1, 0.0, False),\n",
       "  (6, 1, 0.0, False),\n",
       "  (10, 1, 0.0, False),\n",
       "  (14, 2, 1.0, True)],\n",
       " 6)"
      ]
     },
     "execution_count": 124,
     "metadata": {},
     "output_type": "execute_result"
    }
   ],
   "source": [
    "#generate one episode to visualize the optimal policy \n",
    "#obtained using Q-learning\n",
    "Q = qlearning(env, step_size, gamma, epsilon, 200)[0]\n",
    "generate_episode_sarsa(env, Q, False)"
   ]
  },
  {
   "cell_type": "code",
   "execution_count": 127,
   "metadata": {},
   "outputs": [
    {
     "name": "stderr",
     "output_type": "stream",
     "text": [
      "100%|███████████████████████████████████████| 500/500 [00:02<00:00, 177.35it/s]\n"
     ]
    },
    {
     "data": {
      "text/plain": [
       "([[0, 1, 0.0, False],\n",
       "  [4, 1, 0.0, False],\n",
       "  [8, 2, 0.0, False],\n",
       "  [9, 2, 0.0, False],\n",
       "  [10, 1, 0.0, False],\n",
       "  [14, 2, 1.0, True]],\n",
       " 6)"
      ]
     },
     "execution_count": 127,
     "metadata": {},
     "output_type": "execute_result"
    }
   ],
   "source": [
    "#generate one episode to visualize the optimal policy \n",
    "#obtained using first-visit MC\n",
    "policy =  first_visit_MC(env, 500, epsilon, gamma)[0]\n",
    "generate_episode_MC(env, policy, 0, display=False)"
   ]
  },
  {
   "cell_type": "markdown",
   "metadata": {},
   "source": [
    "## Part 2: 10x10 random map"
   ]
  },
  {
   "cell_type": "code",
   "execution_count": 104,
   "metadata": {},
   "outputs": [],
   "source": [
    "# set the parameters for testing\n",
    "step_size = 0.1\n",
    "gamma = 0.95\n",
    "epsilon = 0.15\n",
    "episode = 2000"
   ]
  },
  {
   "cell_type": "code",
   "execution_count": 105,
   "metadata": {},
   "outputs": [
    {
     "name": "stderr",
     "output_type": "stream",
     "text": [
      "100%|██████████████████████████████████████| 2000/2000 [17:45<00:00,  1.88it/s]\n",
      "100%|█████████████████████████████████████| 2000/2000 [00:05<00:00, 393.08it/s]\n",
      "100%|█████████████████████████████████████| 2000/2000 [00:04<00:00, 402.97it/s]\n"
     ]
    }
   ],
   "source": [
    "reward_sums = {}\n",
    "\n",
    "reward_sums[\"first visit MC\"] = first_visit_MC(env2, episode, epsilon, gamma)[1]\n",
    "reward_sums[\"Sarsa\"] = sarsa(env2, step_size, gamma, epsilon, episode)[1]\n",
    "reward_sums[\"Q-learning\"] = qlearning(env2, step_size, gamma, epsilon, episode)[1]"
   ]
  },
  {
   "cell_type": "code",
   "execution_count": 107,
   "metadata": {},
   "outputs": [
    {
     "data": {
      "image/png": "[encoded data removed]",
      "text/plain": [
       "<Figure size 432x288 with 1 Axes>"
      ]
     },
     "metadata": {
      "needs_background": "light"
     },
     "output_type": "display_data"
    }
   ],
   "source": [
    "eps = np.arange(200,2001,20)\n",
    "avg_reward_all = {}\n",
    "for ep in eps:\n",
    "    for method in [\"Q-learning\", \"Sarsa\", \"first visit MC\"]:\n",
    "        if avg_reward_all.get(method):\n",
    "            avg_reward_all[method].append(np.mean(reward_sums[method][:ep]))\n",
    "        else:\n",
    "            avg_reward_all[method] = [np.mean(reward_sums[method][:ep])]\n",
    "\n",
    "#plot graph average reward per episode vs episode\n",
    "for method in [\"Q-learning\", \"Sarsa\", \"first visit MC\"]:\n",
    "    plt.plot(eps, avg_reward_all[method], label=method)\n",
    "plt.title('Average rewards vs Number of episode')\n",
    "plt.xlabel(\"Episodes\")\n",
    "plt.ylabel(\"average rewards\")\n",
    "plt.xlim(200,2000)\n",
    "plt.ylim(-1,1)\n",
    "plt.legend()\n",
    "plt.show()"
   ]
  },
  {
   "cell_type": "code",
   "execution_count": 118,
   "metadata": {},
   "outputs": [
    {
     "name": "stderr",
     "output_type": "stream",
     "text": [
      "100%|███████████████████████████████████| 20000/20000 [01:01<00:00, 327.21it/s]\n",
      "100%|███████████████████████████████████| 20000/20000 [00:48<00:00, 416.49it/s]\n"
     ]
    },
    {
     "data": {
      "image/png": "[encoded data removed]",
      "text/plain": [
       "<Figure size 432x288 with 1 Axes>"
      ]
     },
     "metadata": {
      "needs_background": "light"
     },
     "output_type": "display_data"
    }
   ],
   "source": [
    "#test convergence of Q-learning and SARSA\n",
    "epsilon = 0.15\n",
    "episode = 20000\n",
    "reward_sums = {}\n",
    "reward_sums[\"Sarsa\"] = sarsa(env2, step_size, gamma, epsilon, episode)[1]\n",
    "reward_sums[\"Q-learning\"] = qlearning(env2, step_size, gamma, epsilon, episode)[1]\n",
    "eps = np.arange(200,20001,150)\n",
    "avg_reward_all = {}\n",
    "for ep in eps:\n",
    "    for method in [\"Q-learning\", \"Sarsa\"]:\n",
    "        if avg_reward_all.get(method):\n",
    "            avg_reward_all[method].append(np.mean(reward_sums[method][:ep]))\n",
    "        else:\n",
    "            avg_reward_all[method] = [np.mean(reward_sums[method][:ep])]\n",
    "\n",
    "#plot graph average reward per episode vs episode\n",
    "for method in [\"Q-learning\", \"Sarsa\"]:\n",
    "    plt.plot(eps, avg_reward_all[method], label=method)\n",
    "plt.title('Average rewards vs Number of episode')\n",
    "plt.xlabel(\"Episodes\")\n",
    "plt.ylabel(\"average rewards\")\n",
    "plt.xlim(200, 20000)\n",
    "plt.ylim(-1,1)\n",
    "plt.legend()\n",
    "plt.show()"
   ]
  },
  {
   "cell_type": "code",
   "execution_count": 119,
   "metadata": {},
   "outputs": [
    {
     "name": "stderr",
     "output_type": "stream",
     "text": [
      "100%|█████████████████████████████████████| 2000/2000 [00:09<00:00, 210.11it/s]"
     ]
    },
    {
     "name": "stdout",
     "output_type": "stream",
     "text": [
      "  (Down)\n",
      "SFFFHFFFFF\n",
      "\u001b[41mF\u001b[0mHHFFHFFFH\n",
      "FFFHFFFFHH\n",
      "FFFFHFHFHF\n",
      "FHFHFFFFFH\n",
      "FFHFHFFHFF\n",
      "FFHFHFFHFF\n",
      "FFFFFFFFFH\n",
      "HFFFFFFFFF\n",
      "HHFFFFFFHG\n",
      "  (Down)\n",
      "SFFFHFFFFF\n",
      "FHHFFHFFFH\n",
      "\u001b[41mF\u001b[0mFFHFFFFHH\n",
      "FFFFHFHFHF\n",
      "FHFHFFFFFH\n",
      "FFHFHFFHFF\n",
      "FFHFHFFHFF\n",
      "FFFFFFFFFH\n",
      "HFFFFFFFFF\n",
      "HHFFFFFFHG\n",
      "  (Down)\n",
      "SFFFHFFFFF\n",
      "FHHFFHFFFH\n",
      "FFFHFFFFHH\n",
      "\u001b[41mF\u001b[0mFFFHFHFHF\n",
      "FHFHFFFFFH\n",
      "FFHFHFFHFF\n",
      "FFHFHFFHFF\n",
      "FFFFFFFFFH\n",
      "HFFFFFFFFF\n",
      "HHFFFFFFHG\n",
      "  (Down)\n",
      "SFFFHFFFFF\n",
      "FHHFFHFFFH\n",
      "FFFHFFFFHH\n",
      "FFFFHFHFHF\n",
      "\u001b[41mF\u001b[0mHFHFFFFFH\n",
      "FFHFHFFHFF\n",
      "FFHFHFFHFF\n",
      "FFFFFFFFFH\n",
      "HFFFFFFFFF\n",
      "HHFFFFFFHG\n",
      "  (Down)\n",
      "SFFFHFFFFF\n",
      "FHHFFHFFFH\n",
      "FFFHFFFFHH\n",
      "FFFFHFHFHF\n",
      "FHFHFFFFFH\n",
      "\u001b[41mF\u001b[0mFHFHFFHFF\n",
      "FFHFHFFHFF\n",
      "FFFFFFFFFH\n",
      "HFFFFFFFFF\n",
      "HHFFFFFFHG\n",
      "  (Down)\n",
      "SFFFHFFFFF\n",
      "FHHFFHFFFH\n",
      "FFFHFFFFHH\n",
      "FFFFHFHFHF\n",
      "FHFHFFFFFH\n",
      "FFHFHFFHFF\n",
      "\u001b[41mF\u001b[0mFHFHFFHFF\n",
      "FFFFFFFFFH\n",
      "HFFFFFFFFF\n",
      "HHFFFFFFHG\n",
      "  (Right)\n",
      "SFFFHFFFFF\n",
      "FHHFFHFFFH\n",
      "FFFHFFFFHH\n",
      "FFFFHFHFHF\n",
      "FHFHFFFFFH\n",
      "FFHFHFFHFF\n",
      "F\u001b[41mF\u001b[0mHFHFFHFF\n",
      "FFFFFFFFFH\n",
      "HFFFFFFFFF\n",
      "HHFFFFFFHG\n",
      "  (Down)\n",
      "SFFFHFFFFF\n",
      "FHHFFHFFFH\n",
      "FFFHFFFFHH\n",
      "FFFFHFHFHF\n",
      "FHFHFFFFFH\n",
      "FFHFHFFHFF\n",
      "FFHFHFFHFF\n",
      "F\u001b[41mF\u001b[0mFFFFFFFH\n",
      "HFFFFFFFFF\n",
      "HHFFFFFFHG\n",
      "  (Right)\n",
      "SFFFHFFFFF\n",
      "FHHFFHFFFH\n",
      "FFFHFFFFHH\n",
      "FFFFHFHFHF\n",
      "FHFHFFFFFH\n",
      "FFHFHFFHFF\n",
      "FFHFHFFHFF\n",
      "FF\u001b[41mF\u001b[0mFFFFFFH\n",
      "HFFFFFFFFF\n",
      "HHFFFFFFHG\n",
      "  (Right)\n",
      "SFFFHFFFFF\n",
      "FHHFFHFFFH\n",
      "FFFHFFFFHH\n",
      "FFFFHFHFHF\n",
      "FHFHFFFFFH\n",
      "FFHFHFFHFF\n",
      "FFHFHFFHFF\n",
      "FFF\u001b[41mF\u001b[0mFFFFFH\n",
      "HFFFFFFFFF\n",
      "HHFFFFFFHG\n",
      "  (Down)\n",
      "SFFFHFFFFF\n",
      "FHHFFHFFFH\n",
      "FFFHFFFFHH\n",
      "FFFFHFHFHF\n",
      "FHFHFFFFFH\n",
      "FFHFHFFHFF\n",
      "FFHFHFFHFF\n",
      "FFFFFFFFFH\n",
      "HFF\u001b[41mF\u001b[0mFFFFFF\n",
      "HHFFFFFFHG\n",
      "  (Right)\n",
      "SFFFHFFFFF\n",
      "FHHFFHFFFH\n",
      "FFFHFFFFHH\n",
      "FFFFHFHFHF\n",
      "FHFHFFFFFH\n",
      "FFHFHFFHFF\n",
      "FFHFHFFHFF\n",
      "FFFFFFFFFH\n",
      "HFFF\u001b[41mF\u001b[0mFFFFF\n",
      "HHFFFFFFHG\n",
      "  (Right)\n",
      "SFFFHFFFFF\n",
      "FHHFFHFFFH\n",
      "FFFHFFFFHH\n",
      "FFFFHFHFHF\n",
      "FHFHFFFFFH\n",
      "FFHFHFFHFF\n",
      "FFHFHFFHFF\n",
      "FFFFFFFFFH\n",
      "HFFFF\u001b[41mF\u001b[0mFFFF\n",
      "HHFFFFFFHG\n",
      "  (Right)\n",
      "SFFFHFFFFF\n",
      "FHHFFHFFFH\n",
      "FFFHFFFFHH\n",
      "FFFFHFHFHF\n",
      "FHFHFFFFFH\n",
      "FFHFHFFHFF\n",
      "FFHFHFFHFF\n",
      "FFFFFFFFFH\n",
      "HFFFFF\u001b[41mF\u001b[0mFFF\n",
      "HHFFFFFFHG\n",
      "  (Right)\n",
      "SFFFHFFFFF\n",
      "FHHFFHFFFH\n",
      "FFFHFFFFHH\n",
      "FFFFHFHFHF\n",
      "FHFHFFFFFH\n",
      "FFHFHFFHFF\n",
      "FFHFHFFHFF\n",
      "FFFFFFFFFH\n",
      "HFFFFFF\u001b[41mF\u001b[0mFF\n",
      "HHFFFFFFHG\n",
      "  (Right)\n",
      "SFFFHFFFFF\n",
      "FHHFFHFFFH\n",
      "FFFHFFFFHH\n",
      "FFFFHFHFHF\n",
      "FHFHFFFFFH\n",
      "FFHFHFFHFF\n",
      "FFHFHFFHFF\n",
      "FFFFFFFFFH\n",
      "HFFFFFFF\u001b[41mF\u001b[0mF\n",
      "HHFFFFFFHG\n",
      "  (Right)\n",
      "SFFFHFFFFF\n",
      "FHHFFHFFFH\n",
      "FFFHFFFFHH\n",
      "FFFFHFHFHF\n",
      "FHFHFFFFFH\n",
      "FFHFHFFHFF\n",
      "FFHFHFFHFF\n",
      "FFFFFFFFFH\n",
      "HFFFFFFFF\u001b[41mF\u001b[0m\n",
      "HHFFFFFFHG\n",
      "  (Down)\n",
      "SFFFHFFFFF\n",
      "FHHFFHFFFH\n",
      "FFFHFFFFHH\n",
      "FFFFHFHFHF\n",
      "FHFHFFFFFH\n",
      "FFHFHFFHFF\n",
      "FFHFHFFHFF\n",
      "FFFFFFFFFH\n",
      "HFFFFFFFFF\n",
      "HHFFFFFFH\u001b[41mG\u001b[0m\n"
     ]
    },
    {
     "name": "stderr",
     "output_type": "stream",
     "text": [
      "\n"
     ]
    },
    {
     "data": {
      "text/plain": [
       "([(0, 1, 0.0, False),\n",
       "  (10, 1, 0.0, False),\n",
       "  (20, 1, 0.0, False),\n",
       "  (30, 1, 0.0, False),\n",
       "  (40, 1, 0.0, False),\n",
       "  (50, 1, 0.0, False),\n",
       "  (60, 2, 0.0, False),\n",
       "  (61, 1, 0.0, False),\n",
       "  (71, 2, 0.0, False),\n",
       "  (72, 2, 0.0, False),\n",
       "  (73, 1, 0.0, False),\n",
       "  (83, 2, 0.0, False),\n",
       "  (84, 2, 0.0, False),\n",
       "  (85, 2, 0.0, False),\n",
       "  (86, 2, 0.0, False),\n",
       "  (87, 2, 0.0, False),\n",
       "  (88, 2, 0.0, False),\n",
       "  (89, 1, 1.0, True)],\n",
       " 18)"
      ]
     },
     "execution_count": 119,
     "metadata": {},
     "output_type": "execute_result"
    }
   ],
   "source": [
    "#generate one episode to visualize the optimal policy \n",
    "#obtained by SARSA\n",
    "Q = sarsa(env2, step_size, gamma, epsilon, 2000)[0]\n",
    "generate_episode_sarsa(env2, Q, display=True)"
   ]
  },
  {
   "cell_type": "code",
   "execution_count": 123,
   "metadata": {},
   "outputs": [
    {
     "name": "stderr",
     "output_type": "stream",
     "text": [
      "100%|█████████████████████████████████████| 2000/2000 [00:14<00:00, 139.54it/s]"
     ]
    },
    {
     "name": "stdout",
     "output_type": "stream",
     "text": [
      "  (Right)\n",
      "S\u001b[41mF\u001b[0mFFHFFFFF\n",
      "FHHFFHFFFH\n",
      "FFFHFFFFHH\n",
      "FFFFHFHFHF\n",
      "FHFHFFFFFH\n",
      "FFHFHFFHFF\n",
      "FFHFHFFHFF\n",
      "FFFFFFFFFH\n",
      "HFFFFFFFFF\n",
      "HHFFFFFFHG\n",
      "  (Right)\n",
      "SF\u001b[41mF\u001b[0mFHFFFFF\n",
      "FHHFFHFFFH\n",
      "FFFHFFFFHH\n",
      "FFFFHFHFHF\n",
      "FHFHFFFFFH\n",
      "FFHFHFFHFF\n",
      "FFHFHFFHFF\n",
      "FFFFFFFFFH\n",
      "HFFFFFFFFF\n",
      "HHFFFFFFHG\n",
      "  (Right)\n",
      "SFF\u001b[41mF\u001b[0mHFFFFF\n",
      "FHHFFHFFFH\n",
      "FFFHFFFFHH\n",
      "FFFFHFHFHF\n",
      "FHFHFFFFFH\n",
      "FFHFHFFHFF\n",
      "FFHFHFFHFF\n",
      "FFFFFFFFFH\n",
      "HFFFFFFFFF\n",
      "HHFFFFFFHG\n",
      "  (Down)\n",
      "SFFFHFFFFF\n",
      "FHH\u001b[41mF\u001b[0mFHFFFH\n",
      "FFFHFFFFHH\n",
      "FFFFHFHFHF\n",
      "FHFHFFFFFH\n",
      "FFHFHFFHFF\n",
      "FFHFHFFHFF\n",
      "FFFFFFFFFH\n",
      "HFFFFFFFFF\n",
      "HHFFFFFFHG\n",
      "  (Right)\n",
      "SFFFHFFFFF\n",
      "FHHF\u001b[41mF\u001b[0mHFFFH\n",
      "FFFHFFFFHH\n",
      "FFFFHFHFHF\n",
      "FHFHFFFFFH\n",
      "FFHFHFFHFF\n",
      "FFHFHFFHFF\n",
      "FFFFFFFFFH\n",
      "HFFFFFFFFF\n",
      "HHFFFFFFHG\n",
      "  (Down)\n",
      "SFFFHFFFFF\n",
      "FHHFFHFFFH\n",
      "FFFH\u001b[41mF\u001b[0mFFFHH\n",
      "FFFFHFHFHF\n",
      "FHFHFFFFFH\n",
      "FFHFHFFHFF\n",
      "FFHFHFFHFF\n",
      "FFFFFFFFFH\n",
      "HFFFFFFFFF\n",
      "HHFFFFFFHG\n",
      "  (Right)\n",
      "SFFFHFFFFF\n",
      "FHHFFHFFFH\n",
      "FFFHF\u001b[41mF\u001b[0mFFHH\n",
      "FFFFHFHFHF\n",
      "FHFHFFFFFH\n",
      "FFHFHFFHFF\n",
      "FFHFHFFHFF\n",
      "FFFFFFFFFH\n",
      "HFFFFFFFFF\n",
      "HHFFFFFFHG\n",
      "  (Down)\n",
      "SFFFHFFFFF\n",
      "FHHFFHFFFH\n",
      "FFFHFFFFHH\n",
      "FFFFH\u001b[41mF\u001b[0mHFHF\n",
      "FHFHFFFFFH\n",
      "FFHFHFFHFF\n",
      "FFHFHFFHFF\n",
      "FFFFFFFFFH\n",
      "HFFFFFFFFF\n",
      "HHFFFFFFHG\n",
      "  (Down)\n",
      "SFFFHFFFFF\n",
      "FHHFFHFFFH\n",
      "FFFHFFFFHH\n",
      "FFFFHFHFHF\n",
      "FHFHF\u001b[41mF\u001b[0mFFFH\n",
      "FFHFHFFHFF\n",
      "FFHFHFFHFF\n",
      "FFFFFFFFFH\n",
      "HFFFFFFFFF\n",
      "HHFFFFFFHG\n",
      "  (Down)\n",
      "SFFFHFFFFF\n",
      "FHHFFHFFFH\n",
      "FFFHFFFFHH\n",
      "FFFFHFHFHF\n",
      "FHFHFFFFFH\n",
      "FFHFH\u001b[41mF\u001b[0mFHFF\n",
      "FFHFHFFHFF\n",
      "FFFFFFFFFH\n",
      "HFFFFFFFFF\n",
      "HHFFFFFFHG\n",
      "  (Down)\n",
      "SFFFHFFFFF\n",
      "FHHFFHFFFH\n",
      "FFFHFFFFHH\n",
      "FFFFHFHFHF\n",
      "FHFHFFFFFH\n",
      "FFHFHFFHFF\n",
      "FFHFH\u001b[41mF\u001b[0mFHFF\n",
      "FFFFFFFFFH\n",
      "HFFFFFFFFF\n",
      "HHFFFFFFHG\n",
      "  (Down)\n",
      "SFFFHFFFFF\n",
      "FHHFFHFFFH\n",
      "FFFHFFFFHH\n",
      "FFFFHFHFHF\n",
      "FHFHFFFFFH\n",
      "FFHFHFFHFF\n",
      "FFHFHFFHFF\n",
      "FFFFF\u001b[41mF\u001b[0mFFFH\n",
      "HFFFFFFFFF\n",
      "HHFFFFFFHG\n",
      "  (Right)\n",
      "SFFFHFFFFF\n",
      "FHHFFHFFFH\n",
      "FFFHFFFFHH\n",
      "FFFFHFHFHF\n",
      "FHFHFFFFFH\n",
      "FFHFHFFHFF\n",
      "FFHFHFFHFF\n",
      "FFFFFF\u001b[41mF\u001b[0mFFH\n",
      "HFFFFFFFFF\n",
      "HHFFFFFFHG\n",
      "  (Down)\n",
      "SFFFHFFFFF\n",
      "FHHFFHFFFH\n",
      "FFFHFFFFHH\n",
      "FFFFHFHFHF\n",
      "FHFHFFFFFH\n",
      "FFHFHFFHFF\n",
      "FFHFHFFHFF\n",
      "FFFFFFFFFH\n",
      "HFFFFF\u001b[41mF\u001b[0mFFF\n",
      "HHFFFFFFHG\n",
      "  (Right)\n",
      "SFFFHFFFFF\n",
      "FHHFFHFFFH\n",
      "FFFHFFFFHH\n",
      "FFFFHFHFHF\n",
      "FHFHFFFFFH\n",
      "FFHFHFFHFF\n",
      "FFHFHFFHFF\n",
      "FFFFFFFFFH\n",
      "HFFFFFF\u001b[41mF\u001b[0mFF\n",
      "HHFFFFFFHG\n",
      "  (Right)\n",
      "SFFFHFFFFF\n",
      "FHHFFHFFFH\n",
      "FFFHFFFFHH\n",
      "FFFFHFHFHF\n",
      "FHFHFFFFFH\n",
      "FFHFHFFHFF\n",
      "FFHFHFFHFF\n",
      "FFFFFFFFFH\n",
      "HFFFFFFF\u001b[41mF\u001b[0mF\n",
      "HHFFFFFFHG\n",
      "  (Right)\n",
      "SFFFHFFFFF\n",
      "FHHFFHFFFH\n",
      "FFFHFFFFHH\n",
      "FFFFHFHFHF\n",
      "FHFHFFFFFH\n",
      "FFHFHFFHFF\n",
      "FFHFHFFHFF\n",
      "FFFFFFFFFH\n",
      "HFFFFFFFF\u001b[41mF\u001b[0m\n",
      "HHFFFFFFHG\n",
      "  (Down)\n",
      "SFFFHFFFFF\n",
      "FHHFFHFFFH\n",
      "FFFHFFFFHH\n",
      "FFFFHFHFHF\n",
      "FHFHFFFFFH\n",
      "FFHFHFFHFF\n",
      "FFHFHFFHFF\n",
      "FFFFFFFFFH\n",
      "HFFFFFFFFF\n",
      "HHFFFFFFH\u001b[41mG\u001b[0m\n"
     ]
    },
    {
     "name": "stderr",
     "output_type": "stream",
     "text": [
      "\n"
     ]
    },
    {
     "data": {
      "text/plain": [
       "([(0, 2, 0.0, False),\n",
       "  (1, 2, 0.0, False),\n",
       "  (2, 2, 0.0, False),\n",
       "  (3, 1, 0.0, False),\n",
       "  (13, 2, 0.0, False),\n",
       "  (14, 1, 0.0, False),\n",
       "  (24, 2, 0.0, False),\n",
       "  (25, 1, 0.0, False),\n",
       "  (35, 1, 0.0, False),\n",
       "  (45, 1, 0.0, False),\n",
       "  (55, 1, 0.0, False),\n",
       "  (65, 1, 0.0, False),\n",
       "  (75, 2, 0.0, False),\n",
       "  (76, 1, 0.0, False),\n",
       "  (86, 2, 0.0, False),\n",
       "  (87, 2, 0.0, False),\n",
       "  (88, 2, 0.0, False),\n",
       "  (89, 1, 1.0, True)],\n",
       " 18)"
      ]
     },
     "execution_count": 123,
     "metadata": {},
     "output_type": "execute_result"
    }
   ],
   "source": [
    "#generate one episode to visualize the optimal policy \n",
    "#obtained by Qlearning\n",
    "Q = qlearning(env2, step_size, gamma, epsilon, 2000)[0]\n",
    "generate_episode_sarsa(env2, Q, display=True)"
   ]
  }
 ],
 "metadata": {
  "kernelspec": {
   "display_name": "Python 3",
   "language": "python",
   "name": "python3"
  },
  "language_info": {
   "codemirror_mode": {
    "name": "ipython",
    "version": 3
   },
   "file_extension": ".py",
   "mimetype": "text/x-python",
   "name": "python",
   "nbconvert_exporter": "python",
   "pygments_lexer": "ipython3",
   "version": "3.6.12"
  }
 },
 "nbformat": 4,
 "nbformat_minor": 4
}
